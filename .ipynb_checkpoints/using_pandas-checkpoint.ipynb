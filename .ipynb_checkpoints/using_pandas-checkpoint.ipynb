{
 "cells": [
  {
   "cell_type": "code",
   "execution_count": null,
   "id": "f183532f-92ea-4e29-8850-eb22e380dafc",
   "metadata": {},
   "outputs": [],
   "source": [
    "from models.cnn import CNN\n",
    "import time\n",
    "import gc\n",
    "\n",
    "import pandas as pd\n",
    "import csv\n",
    "import base64\n",
    "import io\n",
    "from PIL import Image\n",
    "import torch\n",
    "from tabulate import tabulate\n",
    "import matplotlib.pyplot as plt\n",
    "import matplotlib.ticker as ticker"
   ]
  },
  {
   "cell_type": "code",
   "execution_count": null,
   "id": "0d47c231-127c-4797-b9d7-b96a788ce928",
   "metadata": {},
   "outputs": [],
   "source": [
    "idimage_df = pd.read_csv(\"data/idimage_fixed.csv\")\n",
    "idlabel_df = pd.read_csv(\"data/idlabel.csv\")\n",
    "idmeta_df  = pd.read_csv(\"data/idmeta.csv\")"
   ]
  },
  {
   "cell_type": "code",
   "execution_count": null,
   "id": "3067221a-b076-4fb6-b36b-2a59087ba3d6",
   "metadata": {},
   "outputs": [],
   "source": [
    "idlabel_df['isfraud'] = idlabel_df['isfraud'].astype(bool)"
   ]
  },
  {
   "cell_type": "code",
   "execution_count": null,
   "id": "cfe99dce-88f7-4197-ab9f-98f8b2f1341d",
   "metadata": {},
   "outputs": [],
   "source": [
    "def predict_fraud(image_b64):\n",
    "    try:\n",
    "        img_bytes = base64.b64decode(image_b64)\n",
    "        img = Image.open(io.BytesIO(img_bytes)).convert(\"RGB\").resize((128, 128))\n",
    "        arr = np.array(img) / 255.0\n",
    "        arr = np.expand_dims(arr, 0).transpose((0, 3, 1, 2))\n",
    "        tensor = torch.from_numpy(arr).float()\n",
    "        with torch.no_grad():\n",
    "            out = model(tensor)\n",
    "        return bool(out[0][0] > 0.5)\n",
    "    except Exception:\n",
    "        return False\n"
   ]
  },
  {
   "cell_type": "code",
   "execution_count": null,
   "id": "ec2c0cf5-35f7-47b7-9859-8508c01f2ddb",
   "metadata": {},
   "outputs": [],
   "source": [
    "\n",
    "def fraud_predicted(image_df):\n",
    "    image_df = image_df.copy()\n",
    "    image_df['predicted_fraud'] = image_df['imageData'].apply(predict_fraud)\n",
    "    total_ids = len(image_df)\n",
    "    fraud_predicted = image_df['predicted_fraud'].sum()\n",
    "    fraud_rate_percentage = 100.0 * fraud_predicted / total_ids\n",
    "    return {\n",
    "        'total_ids': total_ids,\n",
    "        'fraud_predicted': fraud_predicted,\n",
    "        'fraud_rate_percentage': fraud_rate_percentage\n",
    "    }"
   ]
  },
  {
   "cell_type": "code",
   "execution_count": null,
   "id": "95d5dca1-2113-4218-a814-7741359b3061",
   "metadata": {},
   "outputs": [],
   "source": [
    "\n",
    "def fraud_ground_truth(label_df):\n",
    "    total_ids = len(label_df)\n",
    "    total_fraud = label_df['isfraud'].sum()\n",
    "    total_nonfraud = total_ids - total_fraud\n",
    "    fraud_percentage = 100.0 * total_fraud / total_ids\n",
    "    return {\n",
    "        'total_ids': total_ids,\n",
    "        'total_fraud': total_fraud,\n",
    "        'total_nonfraud': total_nonfraud,\n",
    "        'fraud_percentage': fraud_percentage\n",
    "    }"
   ]
  },
  {
   "cell_type": "code",
   "execution_count": null,
   "id": "994c3802-f1fa-4f0e-9996-57acfe0e2c39",
   "metadata": {},
   "outputs": [],
   "source": [
    "\n",
    "def fraud_pattern_ethnicity_wise(image_df, label_df, meta_df):\n",
    "    image_df = image_df.copy()\n",
    "    image_df['predicted_fraud'] = image_df['imageData'].apply(predict_fraud)\n",
    "    merged_df = image_df.merge(label_df, left_on='name', right_on='id')\n",
    "    merged_df = merged_df.merge(meta_df, on='id')\n",
    "    group = merged_df.groupby('ethnicity').agg(\n",
    "        total_customers=('id', 'count'),\n",
    "        predicted_fraud=('predicted_fraud', 'sum')\n",
    "    ).reset_index()\n",
    "    group['fraud_rate_pct'] = 100.0 * group['predicted_fraud'] / group['total_customers']\n",
    "    return group.sort_values('fraud_rate_pct', ascending=False).head(10)"
   ]
  },
  {
   "cell_type": "code",
   "execution_count": null,
   "id": "313c81c3-02d3-4281-93a0-87db53db04d8",
   "metadata": {},
   "outputs": [],
   "source": [
    "\n",
    "def fraud_rate_by_veteran_status(image_df, label_df, meta_df):\n",
    "    image_df = image_df.copy()\n",
    "    image_df['predicted_fraud'] = image_df['imageData'].apply(predict_fraud)\n",
    "    merged_df = image_df.merge(label_df, left_on='name', right_on='id')\n",
    "    merged_df = merged_df.merge(meta_df, on='id')\n",
    "    group = merged_df.groupby('is_veteran').agg(\n",
    "        total_individuals=('id', 'count'),\n",
    "        predicted_fraud=('predicted_fraud', 'sum')\n",
    "    ).reset_index()\n",
    "    group['fraud_rate_pct'] = 100.0 * group['predicted_fraud'] / group['total_individuals']\n",
    "    return group.sort_values('fraud_rate_pct', ascending=False).head(10)"
   ]
  },
  {
   "cell_type": "code",
   "execution_count": null,
   "id": "1e5dbe1b-0289-4c6a-9bc5-8720e074ca7b",
   "metadata": {},
   "outputs": [],
   "source": [
    "timings = {\n",
    "    'fraud_predicted': {'spark': [], 'pandas': []},\n",
    "    'fraud_ground_truth': {'spark': [], 'pandas': []},\n",
    "    'fraud_pattern_ethnicity_wise': {'spark': [], 'pandas': []},\n",
    "    'fraud_rate_by_veteran_status': {'spark': [], 'pandas': []}\n",
    "}\n"
   ]
  },
  {
   "cell_type": "code",
   "execution_count": null,
   "id": "01967a09-7577-465f-8dff-ea7c48a19473",
   "metadata": {},
   "outputs": [],
   "source": [
    "\n",
    "for scale_name, factor in scales:\n",
    "    # print(f\"=== {scale_name} Done===\")\n",
    "    \n",
    "    img_df_scaled = pd.concat([idimage_df] * factor, ignore_index=True)\n",
    "    lbl_df_scaled = pd.concat([idlabel_df] * factor, ignore_index=True)\n",
    "    meta_df_scaled = pd.concat([idmeta_df] * factor, ignore_index=True)\n",
    "    \n",
    "    # Measure Pandas execution times\n",
    "    start = time.time()\n",
    "    fraud_predicted(img_df_scaled)\n",
    "    timings['fraud_predicted']['pandas'].append(time.time() - start)\n",
    "    \n",
    "    start = time.time()\n",
    "    fraud_ground_truth(lbl_df_scaled)\n",
    "    timings['fraud_ground_truth']['pandas'].append(time.time() - start)\n",
    "    \n",
    "    start = time.time()\n",
    "    fraud_pattern_ethnicity_wise(img_df_scaled, lbl_df_scaled, meta_df_scaled)\n",
    "    timings['fraud_pattern_ethnicity_wise']['pandas'].append(time.time() - start)\n",
    "    \n",
    "    start = time.time()\n",
    "    fraud_rate_by_veteran_status(img_df_scaled, lbl_df_scaled, meta_df_scaled)\n",
    "    timings['fraud_rate_by_veteran_status']['pandas'].append(time.time() - start)\n",
    "    gc.collect()\n",
    "    print(f\"=== {scale_name} Done===\")"
   ]
  },
  {
   "cell_type": "code",
   "execution_count": null,
   "id": "5862a5c8-a452-47ea-9630-9ea3f2798ca8",
   "metadata": {},
   "outputs": [],
   "source": [
    "xticks = [0, 20, 40, 60, 80, 100]\n",
    "print(x_ticks)\n",
    "scale_values = [1, 5, 10, 20, 50, 100]\n",
    "print(scale_values)"
   ]
  },
  {
   "cell_type": "code",
   "execution_count": null,
   "id": "25e10bc6-4bc3-4033-ad0c-d906015d5bed",
   "metadata": {},
   "outputs": [],
   "source": [
    "for query_name in timings:\n",
    "    plt.figure(figsize=(10, 6))\n",
    "    plt.plot(scale_values, timings[query_name]['pandas'], marker='s', label='Pandas')\n",
    "    plt.xlabel('Data Scale')\n",
    "    plt.ylabel('Execution Time (s)')\n",
    "    plt.title(f'Execution Time vs Data Scale for {query_name}')\n",
    "    plt.legend()\n",
    "    plt.grid(True)\n",
    "    plt.xticks(xticks)\n",
    "    plt.tight_layout()\n",
    "    plt.savefig(f\"plots/pandas/{query_name}_pandas.png\")\n",
    "    plt.close()\n"
   ]
  },
  {
   "cell_type": "code",
   "execution_count": null,
   "id": "eea0b48b-5574-4551-a1f0-6e9fc784f91b",
   "metadata": {},
   "outputs": [],
   "source": [
    "print(\"\\n=== Pandas Query Execution Times (seconds) ===\")\n",
    "\n",
    "header = [\"Query\"] + scale_labels\n",
    "rows = [\n",
    "    [qname] + [f\"{t:.2f}\" for t in timings[qname][\"pandas\"]]\n",
    "    for qname in timings\n",
    "]\n",
    "\n",
    "print(tabulate(rows, headers=header, tablefmt=\"github\"))"
   ]
  },
  {
   "cell_type": "code",
   "execution_count": null,
   "id": "8d9e6390-7965-4488-861a-515f45ed57f8",
   "metadata": {},
   "outputs": [],
   "source": []
  },
  {
   "cell_type": "code",
   "execution_count": null,
   "id": "c831541a-96ff-4db2-acdb-ff579ea87794",
   "metadata": {},
   "outputs": [],
   "source": []
  }
 ],
 "metadata": {
  "kernelspec": {
   "display_name": "Python 3 (ipykernel)",
   "language": "python",
   "name": "python3"
  },
  "language_info": {
   "codemirror_mode": {
    "name": "ipython",
    "version": 3
   },
   "file_extension": ".py",
   "mimetype": "text/x-python",
   "name": "python",
   "nbconvert_exporter": "python",
   "pygments_lexer": "ipython3",
   "version": "3.12.9"
  }
 },
 "nbformat": 4,
 "nbformat_minor": 5
}
